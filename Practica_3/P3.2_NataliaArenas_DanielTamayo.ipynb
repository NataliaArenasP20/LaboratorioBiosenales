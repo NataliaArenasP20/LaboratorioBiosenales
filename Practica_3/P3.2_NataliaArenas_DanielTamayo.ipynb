{
 "cells": [
  {
   "cell_type": "markdown",
   "metadata": {},
   "source": [
    "#Comparación estadística de Energía de señales EEG (2.5)\n",
    "\n",
    "Se cuenta con señales de EEG de dos grupos de personas, un grupo control y un grupo de pacientes con\n",
    "enfermedad de Parkinson. Se tiene evidencia que la energía de las señales de EEG puede conducir a\n",
    "diferenciar entre señales de pacientes con enfermedad de Parkinson y sanos. Se pide calcular la Energía\n",
    "promedio por grupo poblacional de cada canal.\n",
    "\n",
    "1.  Implemente una función que reciba una señal de múltiples canales y épocas y calcule la Energía de\n",
    "promedio de cada canal."
   ]
  },
  {
   "cell_type": "markdown",
   "metadata": {},
   "source": [
    "PRIMERO IMPORTAMOS LAS LIBRERIAS A UTILIZAR"
   ]
  },
  {
   "cell_type": "code",
   "execution_count": 1,
   "metadata": {},
   "outputs": [],
   "source": [
    "import numpy as np;\n",
    "import scipy.io as sio;\n",
    "import numpy as np;\n",
    "import pandas as pd\n",
    "import os"
   ]
  },
  {
   "cell_type": "markdown",
   "metadata": {},
   "source": [
    "LISTAMOS LAS RUTAS DE LOS LOS ARCHIVOS Y VERIFICAMOS EL ACCESO A LOS MISMOS EN CADA GRUPO POBLACIONAL"
   ]
  },
  {
   "cell_type": "code",
   "execution_count": 2,
   "metadata": {},
   "outputs": [
    {
     "name": "stdout",
     "output_type": "stream",
     "text": [
      "e:\\ACTUAL\\BIOSIGNALS\\GIT\\LaboratorioBiosenales\\Practica_3\n",
      "36 23\n",
      "C001R_EP_reposo.mat P001_EP_reposo.mat\n",
      "e:\\ACTUAL\\BIOSIGNALS\\GIT\\LaboratorioBiosenales\\Practica_3\\datos_senales_datos_parkinson_cursos\\control\\C001R_EP_reposo.mat\n",
      "e:\\ACTUAL\\BIOSIGNALS\\GIT\\LaboratorioBiosenales\\Practica_3\\datos_senales_datos_parkinson_cursos\\parkinson\\P001_EP_reposo.mat\n"
     ]
    }
   ],
   "source": [
    "# Ubicacion relativa directorio actual\n",
    "directorio_actual=os.getcwd()\n",
    "print(directorio_actual)\n",
    "\n",
    "# Listado de rutas de los  archivos\n",
    "archivos_control=os.listdir(directorio_actual +\"\\\\datos_senales_datos_parkinson_cursos\"+ \"/control\")\n",
    "archivos_parkinson=os.listdir(directorio_actual +\"\\\\datos_senales_datos_parkinson_cursos\"+ \"/parkinson\")\n",
    "\n",
    "print(len(archivos_control),len(archivos_parkinson))\n",
    "print(archivos_control[0],archivos_parkinson[0])\n",
    "\n",
    "# Verificación acceso a los archivos\n",
    "path_sub_control=(directorio_actual +\"\\\\datos_senales_datos_parkinson_cursos\"+ \"\\\\control\" + \"\\\\\" + archivos_control[0])\n",
    "print(path_sub_control)\n",
    "\n",
    "path_sub_parkinson=(directorio_actual +\"\\\\datos_senales_datos_parkinson_cursos\"+ \"\\\\parkinson\" + \"\\\\\" + archivos_parkinson[0])\n",
    "print(path_sub_parkinson)\n",
    "\n"
   ]
  },
  {
   "cell_type": "markdown",
   "metadata": {},
   "source": [
    "* Función de cálculo energía promedio de cada canal de una señal dada.\n"
   ]
  },
  {
   "cell_type": "code",
   "execution_count": 3,
   "metadata": {},
   "outputs": [
    {
     "data": {
      "text/plain": [
       "[np.float64(3863817.0644692173),\n",
       " np.float64(3777463.424163748),\n",
       " np.float64(4096826.925884773),\n",
       " np.float64(3331015.251053897),\n",
       " np.float64(5351429.344645828),\n",
       " np.float64(4543948.453060384),\n",
       " np.float64(4100638.965715611),\n",
       " np.float64(4438547.912099543)]"
      ]
     },
     "execution_count": 3,
     "metadata": {},
     "output_type": "execute_result"
    }
   ],
   "source": [
    "\n",
    "def Energia_promedio(signal):\n",
    "    e_prom_canales=[]\n",
    "    c , p , e = signal.shape\n",
    "    for i in range(0,signal.shape[0]):\n",
    "        #print(i)\n",
    "        E = np.sum(signal[i,0:(p*e)]**2)\n",
    "        E_prom = np.mean(E)    \n",
    "        e_prom_canales.append(E_prom)\n",
    "        #print(p*e)\n",
    "        #print(e_prom_canales)\n",
    "    return e_prom_canales\n",
    "\n",
    "#prueba función\n",
    "sujetoi_control=(directorio_actual + \"\\\\datos_senales_datos_parkinson_cursos\"+\"/control\" + \"/\" + archivos_control[0])\n",
    "\n",
    "data_control = sio.loadmat(path_sub_control)\n",
    "data_control=data_control['data']\n",
    "Energia_promedio(data_control)"
   ]
  },
  {
   "cell_type": "markdown",
   "metadata": {},
   "source": [
    "Ahora, para calcular la energía promedio de cada canal, recorremos los archivos ya listados uno por uno en cada grupo poblacional mediante un ciclo for, para cargar cada una de las señales que se encuentra almacenada en una tupla de la forma (canales, puntos, épocas).\n",
    "\n",
    "Posteriormente, se utiliza una función (creada al inicio de este notebook) para realizar el cálculo de la energía promedio de cada canal, ingresando la señal no continua (tal cual como se carga) y recibiendo una lista con los promedios de la energía de cada canal en odern y por sujeto. Esta lista de valores se asigna a un diccionario identificando así caja sujeto, para a partir de este crear un Dataframe que contiene los sujetos en las columnas y los canales en las filas, relacionandolos con los valores promedio de energía de cada uno. \n",
    "\n"
   ]
  },
  {
   "cell_type": "code",
   "execution_count": 4,
   "metadata": {},
   "outputs": [
    {
     "name": "stdout",
     "output_type": "stream",
     "text": [
      "        SUB-001       SUB-002       SUB-004       SUB-005       SUB-006  \\\n",
      "0  3.863817e+06  3.863817e+06  3.863817e+06  3.863817e+06  3.863817e+06   \n",
      "1  3.777463e+06  3.777463e+06  3.777463e+06  3.777463e+06  3.777463e+06   \n",
      "2  4.096827e+06  4.096827e+06  4.096827e+06  4.096827e+06  4.096827e+06   \n",
      "3  3.331015e+06  3.331015e+06  3.331015e+06  3.331015e+06  3.331015e+06   \n",
      "4  5.351429e+06  5.351429e+06  5.351429e+06  5.351429e+06  5.351429e+06   \n",
      "5  4.543948e+06  4.543948e+06  4.543948e+06  4.543948e+06  4.543948e+06   \n",
      "6  4.100639e+06  4.100639e+06  4.100639e+06  4.100639e+06  4.100639e+06   \n",
      "7  4.438548e+06  4.438548e+06  4.438548e+06  4.438548e+06  4.438548e+06   \n",
      "\n",
      "        SUB-007       SUB-010       SUB-011       SUB-012       SUB-013  ...  \\\n",
      "0  3.863817e+06  3.863817e+06  3.863817e+06  3.863817e+06  3.863817e+06  ...   \n",
      "1  3.777463e+06  3.777463e+06  3.777463e+06  3.777463e+06  3.777463e+06  ...   \n",
      "2  4.096827e+06  4.096827e+06  4.096827e+06  4.096827e+06  4.096827e+06  ...   \n",
      "3  3.331015e+06  3.331015e+06  3.331015e+06  3.331015e+06  3.331015e+06  ...   \n",
      "4  5.351429e+06  5.351429e+06  5.351429e+06  5.351429e+06  5.351429e+06  ...   \n",
      "5  4.543948e+06  4.543948e+06  4.543948e+06  4.543948e+06  4.543948e+06  ...   \n",
      "6  4.100639e+06  4.100639e+06  4.100639e+06  4.100639e+06  4.100639e+06  ...   \n",
      "7  4.438548e+06  4.438548e+06  4.438548e+06  4.438548e+06  4.438548e+06  ...   \n",
      "\n",
      "        SUB-034       SUB-036       SUB-037       SUB-040       SUB-041  \\\n",
      "0  3.863817e+06  3.863817e+06  3.863817e+06  3.863817e+06  3.863817e+06   \n",
      "1  3.777463e+06  3.777463e+06  3.777463e+06  3.777463e+06  3.777463e+06   \n",
      "2  4.096827e+06  4.096827e+06  4.096827e+06  4.096827e+06  4.096827e+06   \n",
      "3  3.331015e+06  3.331015e+06  3.331015e+06  3.331015e+06  3.331015e+06   \n",
      "4  5.351429e+06  5.351429e+06  5.351429e+06  5.351429e+06  5.351429e+06   \n",
      "5  4.543948e+06  4.543948e+06  4.543948e+06  4.543948e+06  4.543948e+06   \n",
      "6  4.100639e+06  4.100639e+06  4.100639e+06  4.100639e+06  4.100639e+06   \n",
      "7  4.438548e+06  4.438548e+06  4.438548e+06  4.438548e+06  4.438548e+06   \n",
      "\n",
      "        SUB-042       SUB-044       SUB-045       SUB-046       SUB-049  \n",
      "0  3.863817e+06  3.863817e+06  3.863817e+06  3.863817e+06  3.863817e+06  \n",
      "1  3.777463e+06  3.777463e+06  3.777463e+06  3.777463e+06  3.777463e+06  \n",
      "2  4.096827e+06  4.096827e+06  4.096827e+06  4.096827e+06  4.096827e+06  \n",
      "3  3.331015e+06  3.331015e+06  3.331015e+06  3.331015e+06  3.331015e+06  \n",
      "4  5.351429e+06  5.351429e+06  5.351429e+06  5.351429e+06  5.351429e+06  \n",
      "5  4.543948e+06  4.543948e+06  4.543948e+06  4.543948e+06  4.543948e+06  \n",
      "6  4.100639e+06  4.100639e+06  4.100639e+06  4.100639e+06  4.100639e+06  \n",
      "7  4.438548e+06  4.438548e+06  4.438548e+06  4.438548e+06  4.438548e+06  \n",
      "\n",
      "[8 rows x 36 columns]\n",
      "---------------------------------------------------------------------------------------\n",
      "        SUB-001       SUB-004       SUB-005       SUB-007       SUB-012  \\\n",
      "0  1.778669e+06  1.778669e+06  1.778669e+06  1.778669e+06  1.778669e+06   \n",
      "1  1.610348e+06  1.610348e+06  1.610348e+06  1.610348e+06  1.610348e+06   \n",
      "2  1.547208e+06  1.547208e+06  1.547208e+06  1.547208e+06  1.547208e+06   \n",
      "3  1.357039e+06  1.357039e+06  1.357039e+06  1.357039e+06  1.357039e+06   \n",
      "4  1.729022e+06  1.729022e+06  1.729022e+06  1.729022e+06  1.729022e+06   \n",
      "5  3.260145e+06  3.260145e+06  3.260145e+06  3.260145e+06  3.260145e+06   \n",
      "6  3.389189e+06  3.389189e+06  3.389189e+06  3.389189e+06  3.389189e+06   \n",
      "7  3.661667e+06  3.661667e+06  3.661667e+06  3.661667e+06  3.661667e+06   \n",
      "\n",
      "        SUB-013       SUB-015       SUB-016       SUB-017       SUB-018  ...  \\\n",
      "0  1.778669e+06  1.778669e+06  1.778669e+06  1.778669e+06  1.778669e+06  ...   \n",
      "1  1.610348e+06  1.610348e+06  1.610348e+06  1.610348e+06  1.610348e+06  ...   \n",
      "2  1.547208e+06  1.547208e+06  1.547208e+06  1.547208e+06  1.547208e+06  ...   \n",
      "3  1.357039e+06  1.357039e+06  1.357039e+06  1.357039e+06  1.357039e+06  ...   \n",
      "4  1.729022e+06  1.729022e+06  1.729022e+06  1.729022e+06  1.729022e+06  ...   \n",
      "5  3.260145e+06  3.260145e+06  3.260145e+06  3.260145e+06  3.260145e+06  ...   \n",
      "6  3.389189e+06  3.389189e+06  3.389189e+06  3.389189e+06  3.389189e+06  ...   \n",
      "7  3.661667e+06  3.661667e+06  3.661667e+06  3.661667e+06  3.661667e+06  ...   \n",
      "\n",
      "        SUB-028       SUB-030       SUB-032       SUB-033       SUB-034  \\\n",
      "0  1.778669e+06  1.778669e+06  1.778669e+06  1.778669e+06  1.778669e+06   \n",
      "1  1.610348e+06  1.610348e+06  1.610348e+06  1.610348e+06  1.610348e+06   \n",
      "2  1.547208e+06  1.547208e+06  1.547208e+06  1.547208e+06  1.547208e+06   \n",
      "3  1.357039e+06  1.357039e+06  1.357039e+06  1.357039e+06  1.357039e+06   \n",
      "4  1.729022e+06  1.729022e+06  1.729022e+06  1.729022e+06  1.729022e+06   \n",
      "5  3.260145e+06  3.260145e+06  3.260145e+06  3.260145e+06  3.260145e+06   \n",
      "6  3.389189e+06  3.389189e+06  3.389189e+06  3.389189e+06  3.389189e+06   \n",
      "7  3.661667e+06  3.661667e+06  3.661667e+06  3.661667e+06  3.661667e+06   \n",
      "\n",
      "        SUB-040       SUB-041       SUB-046       SUB-048       SUB-049  \n",
      "0  1.778669e+06  1.778669e+06  1.778669e+06  1.778669e+06  1.778669e+06  \n",
      "1  1.610348e+06  1.610348e+06  1.610348e+06  1.610348e+06  1.610348e+06  \n",
      "2  1.547208e+06  1.547208e+06  1.547208e+06  1.547208e+06  1.547208e+06  \n",
      "3  1.357039e+06  1.357039e+06  1.357039e+06  1.357039e+06  1.357039e+06  \n",
      "4  1.729022e+06  1.729022e+06  1.729022e+06  1.729022e+06  1.729022e+06  \n",
      "5  3.260145e+06  3.260145e+06  3.260145e+06  3.260145e+06  3.260145e+06  \n",
      "6  3.389189e+06  3.389189e+06  3.389189e+06  3.389189e+06  3.389189e+06  \n",
      "7  3.661667e+06  3.661667e+06  3.661667e+06  3.661667e+06  3.661667e+06  \n",
      "\n",
      "[8 rows x 23 columns]\n"
     ]
    }
   ],
   "source": [
    "#listando los archivos en el directorio\n",
    "\n",
    "#CARGAMOS LOS CONTROLES\n",
    "E_prom_control = {}\n",
    "E_prom_parkinson = {}\n",
    "for i in range(0,len(archivos_control)):\n",
    "    # Recorre cada uno de los archivos\n",
    "    sujetoi_control=(directorio_actual + \"\\\\datos_senales_datos_parkinson_cursos\"+\"/control\" + \"/\" + archivos_control[i])\n",
    "\n",
    "    # Carga cada archivo\n",
    "    data_control = sio.loadmat(path_sub_control)\n",
    "    data_control=data_control['data']            \n",
    "    # Cálculo energía promedio de cada canala en cada grupo de sujetos\n",
    "    \n",
    "    E_prom_control['SUB-'+str(archivos_control[i])[1:4]] = Energia_promedio(data_control)\n",
    "\n",
    "#CARGAMOS LOS CONTROLES\n",
    "for i in range(0,len(archivos_parkinson)):\n",
    "    # Recorre cada uno de los archivos\n",
    "    sujetoi_parkinson=(directorio_actual + \"\\\\datos_senales_datos_parkinson_cursos\"+\"/parkinson\" + \"/\" + archivos_parkinson[i])\n",
    "\n",
    "    # Carga cada archivo   \n",
    "    data_parkinson = sio.loadmat(path_sub_parkinson)\n",
    "    data_parkinson=data_parkinson['data']\n",
    "            \n",
    "    # Cálculo energía promedio de cada canala en cada grupo de sujetos   \n",
    "    E_prom_parkinson['SUB-'+str(archivos_parkinson[i])[1:4]] = Energia_promedio(data_parkinson)\n",
    "\n",
    "DF_control=pd.DataFrame(E_prom_control)\n",
    "DF_parkinson = pd.DataFrame(E_prom_parkinson)\n",
    "\n",
    "print(DF_control)\n",
    "print(\"---------------------------------------------------------------------------------------\")\n",
    "print(DF_parkinson)\n",
    "\n",
    "\n",
    "# print(E_prom_parkinson)\n",
    "        \n",
    "#senal_continua = np.reshape(data,(sensores, puntos*epocas), order = 'F') "
   ]
  },
  {
   "cell_type": "markdown",
   "metadata": {},
   "source": []
  },
  {
   "cell_type": "code",
   "execution_count": 5,
   "metadata": {},
   "outputs": [],
   "source": [
    "fs = 1024 # Frecuencia de muestreo de la señal"
   ]
  },
  {
   "cell_type": "markdown",
   "metadata": {},
   "source": []
  },
  {
   "cell_type": "code",
   "execution_count": null,
   "metadata": {},
   "outputs": [],
   "source": []
  }
 ],
 "metadata": {
  "kernelspec": {
   "display_name": "Python 3",
   "language": "python",
   "name": "python3"
  },
  "language_info": {
   "codemirror_mode": {
    "name": "ipython",
    "version": 3
   },
   "file_extension": ".py",
   "mimetype": "text/x-python",
   "name": "python",
   "nbconvert_exporter": "python",
   "pygments_lexer": "ipython3",
   "version": "3.12.4"
  }
 },
 "nbformat": 4,
 "nbformat_minor": 2
}
