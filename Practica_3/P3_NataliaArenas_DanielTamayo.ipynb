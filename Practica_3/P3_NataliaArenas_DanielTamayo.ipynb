{
  "cells": [
    {
      "cell_type": "markdown",
      "metadata": {
        "colab_type": "text",
        "id": "view-in-github"
      },
      "source": [
        "<a href=\"https://colab.research.google.com/github/NataliaArenasP20/LaboratorioBiosenales/blob/main/Practica_3/P3_NataliaArenas_DanielTamayo.ipynb\" target=\"_parent\"><img src=\"https://colab.research.google.com/assets/colab-badge.svg\" alt=\"Open In Colab\"/></a>"
      ]
    },
    {
      "cell_type": "markdown",
      "metadata": {
        "id": "xmv_gjUdHg6o"
      },
      "source": [
        "# **#Práctica 3**\n",
        "### Natalia Arenas Pachón - 1007729698\n",
        "### Daniel Tamayo - 1214747121"
      ]
    },
    {
      "cell_type": "markdown",
      "metadata": {
        "id": "EH9Z56BXH2XA"
      },
      "source": [
        "### **Implementación de funciones**\n",
        "\n"
      ]
    },
    {
      "cell_type": "code",
      "execution_count": null,
      "metadata": {
        "id": "xJVi3EbrHkBf"
      },
      "outputs": [],
      "source": [
        "#jkaikjdidn"
      ]
    },
    {
      "cell_type": "markdown",
      "metadata": {},
      "source": []
    },
    {
      "cell_type": "code",
      "execution_count": null,
      "metadata": {},
      "outputs": [],
      "source": []
    }
  ],
  "metadata": {
    "colab": {
      "authorship_tag": "ABX9TyNsSQ4vVbNbgya7ct0rMkVY",
      "include_colab_link": true,
      "provenance": []
    },
    "kernelspec": {
      "display_name": "Python 3",
      "name": "python3"
    },
    "language_info": {
      "name": "python"
    }
  },
  "nbformat": 4,
  "nbformat_minor": 0
}
