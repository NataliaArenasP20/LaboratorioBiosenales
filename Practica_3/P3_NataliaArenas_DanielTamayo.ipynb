{
  "cells": [
    {
      "cell_type": "markdown",
      "metadata": {
        "colab_type": "text",
        "id": "view-in-github"
      },
      "source": [
        "<a href=\"https://colab.research.google.com/github/NataliaArenasP20/LaboratorioBiosenales/blob/main/Practica_3/P3_NataliaArenas_DanielTamayo.ipynb\" target=\"_parent\"><img src=\"https://colab.research.google.com/assets/colab-badge.svg\" alt=\"Open In Colab\"/></a>"
      ]
    },
    {
      "cell_type": "markdown",
      "metadata": {
        "id": "xmv_gjUdHg6o"
      },
      "source": [
        "# **#Práctica 3**\n",
        "### Natalia Arenas Pachón - 1007729698\n",
        "### Daniel Tamayo - 1214747121"
      ]
    },
    {
      "cell_type": "markdown",
      "metadata": {
        "id": "EH9Z56BXH2XA"
      },
      "source": [
        "### **Análisis estadístico de ECG**\n",
        "\n"
      ]
    },
    {
      "cell_type": "code",
      "execution_count": 28,
      "metadata": {},
      "outputs": [],
      "source": [
        "import scipy.io as sio\n",
        "import numpy as np"
      ]
    },
    {
      "cell_type": "code",
      "execution_count": 32,
      "metadata": {},
      "outputs": [
        {
          "name": "stdout",
          "output_type": "stream",
          "text": [
            "c:\\Users\\natal\\OneDrive\\Escritorio\\LaboratorioBiosenales\\Practica_3\n"
          ]
        }
      ],
      "source": [
        "import os\n",
        "directorio_Actual = os.getcwd()\n",
        "print(directorio_Actual)  # Imprime el directorio actual"
      ]
    },
    {
      "cell_type": "code",
      "execution_count": 34,
      "metadata": {
        "id": "xJVi3EbrHkBf"
      },
      "outputs": [
        {
          "name": "stdout",
          "output_type": "stream",
          "text": [
            "dict_keys(['__header__', '__version__', '__globals__', 'Fs', 'ECG_asRecording', 'ECG_filtered', 'EMG_filtered1', 'EMG_filtered2', 'EMG_asRecording1', 'EMG_asRecording2'])\n"
          ]
        }
      ],
      "source": [
        "# Cargo el archivo signals.mat desde el directorio local\n",
        "signal = sio.loadmat(\"C:/Users/natal/OneDrive/Escritorio/LaboratorioBiosenales/Practica_3/signals.mat\")\n",
        "#signal = sio.loadmat(\"./LaboratorioBiosenales/Practica_3/signals.mat\")\n",
        "\n",
        "#REVISAR POR QUE NO ME DEJA PONER LA RUTA RELATIVA!\n",
        "\n",
        "# Ver las llaves del archivo\n",
        "print(signal.keys())\n",
        "\n",
        "# Cargar las señales ECG\n",
        "ECG = signal['ECG_asRecording']\n",
        "ECG_filtrada = signal['ECG_filtered']\n"
      ]
    },
    {
      "cell_type": "code",
      "execution_count": 35,
      "metadata": {},
      "outputs": [
        {
          "data": {
            "text/plain": [
              "np.float64(4392.8975)"
            ]
          },
          "execution_count": 35,
          "metadata": {},
          "output_type": "execute_result"
        }
      ],
      "source": [
        "def RMS (s): #Función RMS con argumento s\n",
        "    size=s.size #se obtiene el número de datos y se guarda en size\n",
        "\n",
        "    #Genero una variable vacía para el valor RMS\n",
        "    RMS=0\n",
        "\n",
        "    #Genero un ciclo for que va a recorrer los elementos de la señal\n",
        "    for i in range(0,size-1):\n",
        "        RMS+=s[0,i]**2\n",
        "        #Permite calcular el cuadrado medio de la señal mediante un contador que \n",
        "        # sería el sumador de la ecuación y se agrega a la variable RMS\n",
        "\n",
        "    #Ahora aplico el 1/N * RMS elevado a la 1/2(raiz)\n",
        "    RMS_out=np.sqrt(1/size*RMS) #size es el número N de muestras \n",
        "\n",
        "    #Retorno, se emplea el round con el fin de tomar 4 cifras decimales\n",
        "    return np.round(RMS_out,4)\n",
        "\n",
        "RMS(ECG) #Calcula el RMS de la señal ECG"
      ]
    },
    {
      "cell_type": "markdown",
      "metadata": {},
      "source": [
        "1. A partir de la información suministrada en el archivo .mat, determine el tiempo de duración de las señales, cree un vector de tiempo"
      ]
    },
    {
      "cell_type": "code",
      "execution_count": 37,
      "metadata": {},
      "outputs": [],
      "source": [
        "#Tamaño de cada señal\n",
        "size_ECG = ECG.size\n",
        "size_ECG_filtrada = ECG_filtrada.size\n",
        "\n",
        "#Frecuencia de muestreo definida de 1024 HZ\n",
        "fec_muestreo = 1024\n",
        "\n",
        "#Periodo Hz^-1= s\n",
        "periodo = 1/fec_muestreo\n",
        "\n",
        "#Longitud de tiempo de cada señal usando el periodo\n",
        "longitud_ECG = periodo*size_ECG\n",
        "longitud_ECG_filtrada = periodo*size_ECG_filtrada\n",
        "\n",
        "#Vector de tiempo para cada señal\n",
        "vector_ECG = np.arange(0, longitud_ECG, periodo)\n",
        "#print('Vector ECG:',vector_ECG)\n",
        "vector_ECG_filtrada = np.arange(0, longitud_ECG_filtrada, periodo)\n",
        "#print('Vector ECG filtrada:',vector_ECG_filtrada)"
      ]
    },
    {
      "cell_type": "markdown",
      "metadata": {},
      "source": [
        "2. Grafique la señal sin filtrar y filtrada, compárelas. Comente lo que observa, y describa cómo debe ser \n",
        "el comportamiento del filtro que se utilizó. Recuerde las frecuencias de interés de la señal ECG."
      ]
    },
    {
      "cell_type": "code",
      "execution_count": null,
      "metadata": {},
      "outputs": [],
      "source": []
    },
    {
      "cell_type": "markdown",
      "metadata": {},
      "source": [
        " 3. Tome la señal tal cual se registró. De dicha señal, seleccione un ciclo cardiaco, grafique. Calcule el \n",
        "promedio, el valor RMS, la varianza y la desviación estándar del ciclo. Analice los resultados."
      ]
    },
    {
      "cell_type": "code",
      "execution_count": null,
      "metadata": {},
      "outputs": [],
      "source": []
    },
    {
      "cell_type": "markdown",
      "metadata": {},
      "source": [
        "4.  Tome la señal filtrada. Repita el procedimiento anterior con esta señal, compare con los resultados \n",
        "obtenidos en el ítem anterior. "
      ]
    },
    {
      "cell_type": "code",
      "execution_count": null,
      "metadata": {},
      "outputs": [],
      "source": []
    },
    {
      "cell_type": "markdown",
      "metadata": {},
      "source": [
        "5.  Extraiga 15 ciclos de la señal filtrada, y para cada ciclo calcule el valor promedio y la varianza, grafique cada ciclo, y analice (gráfica y estadísticamente). ¿Se puede considerar que la señal es estacionaria?\n"
      ]
    },
    {
      "cell_type": "code",
      "execution_count": null,
      "metadata": {},
      "outputs": [],
      "source": []
    },
    {
      "cell_type": "markdown",
      "metadata": {},
      "source": [
        "6.  Realice dos veces comparaciones entre dos ciclos cualquiera utilizando una prueba t. Determine \n",
        "estadísticamente si existe diferencia estadística entre los ciclos, Compruebe los supuestos necesarios \n",
        "para realizar una prueba t, esto es: Normalidad de la variable, independencia (se asume que los grupos \n",
        "son independientes), y homocedasticidad (use una prueba de Levene), finalmente realice la prueba t para determinar si existen diferencias entre los ciclos. Qué indica este análisis respecto de la \n",
        "estacionariedad, explique. De no cumplirse los requisitos, realice entonces un análisis no paramétrico \n",
        "(prueba U de Mann-Whitney)."
      ]
    },
    {
      "cell_type": "code",
      "execution_count": null,
      "metadata": {},
      "outputs": [],
      "source": []
    },
    {
      "cell_type": "markdown",
      "metadata": {},
      "source": [
        "7.  Compruebe los resultados anteriores aplicando una prueba de Dickey-Fuller a la señal \n",
        "(Estacionariedad)"
      ]
    },
    {
      "cell_type": "code",
      "execution_count": null,
      "metadata": {},
      "outputs": [],
      "source": []
    }
  ],
  "metadata": {
    "colab": {
      "authorship_tag": "ABX9TyNsSQ4vVbNbgya7ct0rMkVY",
      "include_colab_link": true,
      "provenance": []
    },
    "kernelspec": {
      "display_name": "Python 3",
      "name": "python3"
    },
    "language_info": {
      "codemirror_mode": {
        "name": "ipython",
        "version": 3
      },
      "file_extension": ".py",
      "mimetype": "text/x-python",
      "name": "python",
      "nbconvert_exporter": "python",
      "pygments_lexer": "ipython3",
      "version": "3.12.2"
    }
  },
  "nbformat": 4,
  "nbformat_minor": 0
}
