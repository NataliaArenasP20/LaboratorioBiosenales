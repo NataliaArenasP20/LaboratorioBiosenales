{
  "nbformat": 4,
  "nbformat_minor": 0,
  "metadata": {
    "colab": {
      "provenance": [],
      "authorship_tag": "ABX9TyNsSQ4vVbNbgya7ct0rMkVY",
      "include_colab_link": true
    },
    "kernelspec": {
      "name": "python3",
      "display_name": "Python 3"
    },
    "language_info": {
      "name": "python"
    }
  },
  "cells": [
    {
      "cell_type": "markdown",
      "metadata": {
        "id": "view-in-github",
        "colab_type": "text"
      },
      "source": [
        "<a href=\"https://colab.research.google.com/github/NataliaArenasP20/LaboratorioBiosenales/blob/main/Practica_3/P3_NataliaArenas_DanielTamayo.ipynb\" target=\"_parent\"><img src=\"https://colab.research.google.com/assets/colab-badge.svg\" alt=\"Open In Colab\"/></a>"
      ]
    },
    {
      "cell_type": "markdown",
      "source": [
        "# **#Práctica 3**\n",
        "### Natalia Arenas Pachón - 1007729698\n",
        "### Daniel Tamayo - 1214747121"
      ],
      "metadata": {
        "id": "xmv_gjUdHg6o"
      }
    },
    {
      "cell_type": "markdown",
      "source": [
        "### **Implementación de funciones**\n",
        "\n"
      ],
      "metadata": {
        "id": "EH9Z56BXH2XA"
      }
    },
    {
      "cell_type": "code",
      "source": [],
      "metadata": {
        "id": "xJVi3EbrHkBf"
      },
      "execution_count": null,
      "outputs": []
    }
  ]
}