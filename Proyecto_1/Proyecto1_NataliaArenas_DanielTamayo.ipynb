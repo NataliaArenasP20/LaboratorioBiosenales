{
 "cells": [
  {
   "cell_type": "markdown",
   "metadata": {},
   "source": [
    "<div style=\"display: flex; align-items: center;\">\n",
    "    <img alt=\"udeA logo\" height=\"140px\" src=\"https://github.com/freddyduitama/images/blob/master/logo.png?raw=true\" style=\"width:107px;height:152px; margin-right: 40px;\">\n",
    "    <div style=\"text-align: center;\">\n",
    "        <h1><b><font color='0B5345'>Proyecto 1: Análisis estadístico</font></b></h1>\n",
    "        <h2><font color='0B5345'>Proyecto 2024-02</font></h2>\n",
    "        <h3><font color='0B5345'>Natalia Arenas Pachón - Daniel Tamayo</font></h3>\n",
    "        <h3><font color='0B5345'>2024</font></h3>\n",
    "    </div>\n",
    "</div>"
   ]
  },
  {
   "cell_type": "markdown",
   "metadata": {},
   "source": [
    "<h3><strong>Contexto del problema</strong></h3>\n",
    "<p style=\"text-align: justify;\">\n",
    "Las enfermedades neurodegenerativas a menudo afectan la marcha y la movilidad. Para comprender mejor la fisiopatología de estas enfermedades y mejorar nuestra capacidad de medir las respuestas a las intervenciones terapéuticas, puede resultar útil cuantificar con precisión la dinámica de la marcha (https://physionet.org/content/gaitndd/1.0.0/).\n",
    "</p>"
   ]
  },
  {
   "cell_type": "markdown",
   "metadata": {},
   "source": [
    "<h3><strong>Consulta </strong></h3>"
   ]
  },
  {
   "cell_type": "markdown",
   "metadata": {},
   "source": [
    "**1.** Consultar para enfermedad de Parkinson, Huntington y Esclerosis Lateral Amiotrófica cómo se diagnostican y el reto que existe para el diagnóstico temprano de dichas enfermedades **(5%).**"
   ]
  },
  {
   "cell_type": "markdown",
   "metadata": {},
   "source": [
    "<div style=\"text-align: center;\">\n",
    "    <h5><strong>Enfermedad de Parkinson</strong></h5>\n",
    "</div>\n",
    "<p style=\"text-align: justify;\">\n",
    "La enfermedad de Parkinson es un trastorno del cerebro que provoca movimientos involuntarios o incontrolables, como temblores, rigidez y dificultad con el equilibrio y la coordinación.\n",
    "\n",
    "Por lo general, los síntomas comienzan poco a poco y empeoran con el tiempo. A medida que la enfermedad avanza, las personas pueden tener dificultad para caminar y hablar. También pueden tener cambios mentales y de comportamiento, problemas para dormir, depresión, dificultades de memoria y fatiga.\n",
    "\n",
    "**Diagnostico:**\n",
    "Los signos y los síntomas más comunes de la enfermedad de Parkinson ocurren cuando las células nerviosas en los ganglios basales (un área del cerebro que controla el movimiento) se deterioran o mueren. Normalmente, estas células nerviosas, o neuronas, producen una sustancia química cerebral importante llamada dopamina. Cuando las neuronas mueren o se deterioran, producen menos dopamina, lo que provoca los problemas de movimiento asociados con esta enfermedad. Las personas con la enfermedad de Parkinson también pierden las terminaciones nerviosas que producen norepinefrina, el principal mensajero químico del sistema nervioso simpático, que controla muchas funciones del cuerpo, como la frecuencia cardíaca y la presión arterial.\n",
    "\n",
    "**Reto:**\n",
    "Actualmente, no existen análisis de sangre u otras pruebas de laboratorio para diagnosticar casos no genéticos de la enfermedad de Parkinson. \n",
    "\n",
    "https://www.nia.nih.gov/espanol/parkinson/enfermedad-parkinson-causas-sintomas-tratamientos#:~:text=Diagn%C3%B3stico%20de%20la%20enfermedad%20de%20Parkinson,-Actualmente%2C%20no%20existen&text=Por%20lo%20general%2C%20los%20m%C3%A9dicos,que%20la%20persona%20tiene%20Parkinson.\n",
    "</p>"
   ]
  },
  {
   "cell_type": "markdown",
   "metadata": {},
   "source": [
    "<div style=\"text-align: center;\">\n",
    "    <h5><strong>Enfermedad de Huntington</strong></h5>\n",
    "</div>\n",
    "<p style=\"text-align: justify;\">\n",
    "La enfermedad de Huntington es una enfermedad hereditaria degenerativa y progresiva que resulta en el desgaste de las células nerviosas (neuronas) en algunas áreas del cerebro. Estas alteraciones en el cerebro provocan movimientos incontrolados, pérdida de la capacidad intelectual y trastornos emocionales en los afectados. \n",
    "\n",
    "**Diagnostico:**\n",
    "El diagnóstico se sospecha si hay señales y síntomas de la enfermedad, como las alteraciones progresivas de los movimientos, alteraciones mentales y de comportamiento, y si existen otros casos en la familia. Exámenes de imagen como la tomografía computarizada y la resonancia magnética del cerebro pueden auxiliar el diagnóstico.\n",
    "\n",
    "El diagnóstico es confirmado mediante una prueba genética para identificar el número de la repetición en la secuencia CAG en el gen HTT. Un número de 26 repeticiones o menos del triplete CAG en el gen HTT es considerado normal. Los individuos que tienen entre 27 a 35 repeticiones no tienen la enfermedad pero pueden tener hijos o hijas afectadas. Si se encuentran 36 o más repeticiones de la secuencia en un individuo hay mucha chance de ser afectado. Cuando hay más de 40 repeticiones la persona casi siempre es afectada.\n",
    "\n",
    "**Reto:**\n",
    "Todavía no existe cura para esta enfermedad y el tratamiento está dirigido para aliviar los síntomas de los afectados. \n",
    "\n",
    "https://rarediseases.info.nih.gov/espanol/11993/enfermedad-de-huntington\n",
    "</p>"
   ]
  },
  {
   "cell_type": "markdown",
   "metadata": {},
   "source": [
    "<div style=\"text-align: center;\">\n",
    "    <h5><strong>Enfermedad de Esclerosis Lateral Amiotrófica</strong></h5>\n",
    "</div>\n",
    "<p style=\"text-align: justify;\">\n",
    "La esclerosis lateral amiotrófica (ELA), también conocida como enfermedad de Lou Gehrig o ALS por sus siglas en inglés, es una enfermedad neurológica poco frecuente que afecta las neuronas motoras, es decir, las células nerviosas en el cerebro y la médula espinal que controlan el movimiento muscular voluntario. Los músculos voluntarios son aquellos que decidimos usar para producir movimientos como masticar, caminar y hablar.\n",
    "\n",
    "La esclerosis lateral amiotrófica es un tipo de enfermedad de las neuronas motoras. A medida que las neuronas motoras se degeneran y mueren, dejan de enviar mensajes a los músculos, lo que hace que estos se debiliten, comiencen a contraerse (lo que se denomina fasciculaciones) y se desgasten (lo que se denomina atrofia). Con el tiempo, el cerebro pierde su capacidad para iniciar y controlar los movimientos voluntarios.\n",
    "\n",
    "**Diagnostico:**\n",
    "Un examen neurológico evaluará los reflejos, fuerza muscular y otras respuestas, y se llevará a cabo a intervalos regulares para evaluar si los síntomas como debilidad muscular, atrofia muscular y espasticidad están empeorando de manera progresiva.\n",
    "\n",
    "Las pruebas musculares y de imágenes para descartar otras enfermedades y confirmar el diagnóstico incluyen: electromiografía (EMG), estudio de conducción nerviosa,  resonancia magnética (también conocida como MRI, por sus siglas en inglés).  \n",
    "\n",
    "**Reto:**\n",
    "La enfermedad es progresiva, lo que significa que los síntomas empeoran con el tiempo. No tiene cura y no existe un tratamiento eficaz para revertir su progresión.\n",
    "\n",
    "https://espanol.ninds.nih.gov/es/trastornos/esclerosis-lateral-amiotrofica-ela\n",
    "</p>\n",
    "<hr>"
   ]
  },
  {
   "cell_type": "markdown",
   "metadata": {},
   "source": [
    "**2.** Discutir matemáticamente, explicando con fórmulas, cómo funciona la rutina detrend de scipy **(5%)\n",
    "<hr>"
   ]
  },
  {
   "cell_type": "markdown",
   "metadata": {},
   "source": [
    "**3.** Discutir matemáticamente, explicando con fórmulas, cómo funciona el filtro hampel **(5%)**\n",
    "<hr>"
   ]
  },
  {
   "cell_type": "markdown",
   "metadata": {},
   "source": [
    "**4.** Discutir matemáticamente y desde la bioingeniería qué mide la entropia de permutación ( https://www.aptech.com/blog/permutation-entropy/ , https://www.ncbi.nlm.nih.gov/pmc/articles/PMC8051436/ ) **(5%)**\n",
    "<hr>"
   ]
  },
  {
   "cell_type": "markdown",
   "metadata": {},
   "source": [
    "<h3><strong> Organización de datos </strong></h3>"
   ]
  },
  {
   "cell_type": "code",
   "execution_count": 81,
   "metadata": {},
   "outputs": [],
   "source": [
    "import pandas as pd\n",
    "import matplotlib.pyplot as plt\n",
    "import numpy as np\n",
    "import scipy.signal as signal\n",
    "import os\n",
    "import glob\n",
    "import scipy.io as sio;"
   ]
  },
  {
   "cell_type": "code",
   "execution_count": 82,
   "metadata": {},
   "outputs": [
    {
     "name": "stdout",
     "output_type": "stream",
     "text": [
      "c:\\Users\\natal\\OneDrive\\Escritorio\\LaboratorioBiosenales\\Proyecto_1\n"
     ]
    }
   ],
   "source": [
    "import os\n",
    "directorio_actual=os.getcwd()\n",
    "print(directorio_actual)"
   ]
  },
  {
   "cell_type": "code",
   "execution_count": 83,
   "metadata": {},
   "outputs": [
    {
     "name": "stdout",
     "output_type": "stream",
     "text": [
      "4\n"
     ]
    }
   ],
   "source": [
    "archivos=os.listdir(directorio_actual + \"/gait-in-neurodegenerative-disease-database-1.0.0\")\n",
    "print(len(archivos))"
   ]
  },
  {
   "cell_type": "markdown",
   "metadata": {},
   "source": [
    "<hr>\n",
    "<h3><strong>Programación </strong></h3>"
   ]
  },
  {
   "cell_type": "markdown",
   "metadata": {},
   "source": [
    "**1.** Crear una rutina que permita cargar un archivo .ts y extraiga las 4 señales de interés, de cada señal elimine los primeros 20 segundos, y las almacene en un ndarray."
   ]
  },
  {
   "cell_type": "code",
   "execution_count": 84,
   "metadata": {},
   "outputs": [
    {
     "name": "stdout",
     "output_type": "stream",
     "text": [
      "Archivos ALS: ['c:\\\\Users\\\\natal\\\\OneDrive\\\\Escritorio\\\\LaboratorioBiosenales\\\\Proyecto_1\\\\gait-in-neurodegenerative-disease-database-1.0.0\\\\als\\\\als1.ts', 'c:\\\\Users\\\\natal\\\\OneDrive\\\\Escritorio\\\\LaboratorioBiosenales\\\\Proyecto_1\\\\gait-in-neurodegenerative-disease-database-1.0.0\\\\als\\\\als10.ts', 'c:\\\\Users\\\\natal\\\\OneDrive\\\\Escritorio\\\\LaboratorioBiosenales\\\\Proyecto_1\\\\gait-in-neurodegenerative-disease-database-1.0.0\\\\als\\\\als11.ts', 'c:\\\\Users\\\\natal\\\\OneDrive\\\\Escritorio\\\\LaboratorioBiosenales\\\\Proyecto_1\\\\gait-in-neurodegenerative-disease-database-1.0.0\\\\als\\\\als12.ts', 'c:\\\\Users\\\\natal\\\\OneDrive\\\\Escritorio\\\\LaboratorioBiosenales\\\\Proyecto_1\\\\gait-in-neurodegenerative-disease-database-1.0.0\\\\als\\\\als13.ts', 'c:\\\\Users\\\\natal\\\\OneDrive\\\\Escritorio\\\\LaboratorioBiosenales\\\\Proyecto_1\\\\gait-in-neurodegenerative-disease-database-1.0.0\\\\als\\\\als2.ts', 'c:\\\\Users\\\\natal\\\\OneDrive\\\\Escritorio\\\\LaboratorioBiosenales\\\\Proyecto_1\\\\gait-in-neurodegenerative-disease-database-1.0.0\\\\als\\\\als3.ts', 'c:\\\\Users\\\\natal\\\\OneDrive\\\\Escritorio\\\\LaboratorioBiosenales\\\\Proyecto_1\\\\gait-in-neurodegenerative-disease-database-1.0.0\\\\als\\\\als4.ts', 'c:\\\\Users\\\\natal\\\\OneDrive\\\\Escritorio\\\\LaboratorioBiosenales\\\\Proyecto_1\\\\gait-in-neurodegenerative-disease-database-1.0.0\\\\als\\\\als5.ts', 'c:\\\\Users\\\\natal\\\\OneDrive\\\\Escritorio\\\\LaboratorioBiosenales\\\\Proyecto_1\\\\gait-in-neurodegenerative-disease-database-1.0.0\\\\als\\\\als6.ts', 'c:\\\\Users\\\\natal\\\\OneDrive\\\\Escritorio\\\\LaboratorioBiosenales\\\\Proyecto_1\\\\gait-in-neurodegenerative-disease-database-1.0.0\\\\als\\\\als7.ts', 'c:\\\\Users\\\\natal\\\\OneDrive\\\\Escritorio\\\\LaboratorioBiosenales\\\\Proyecto_1\\\\gait-in-neurodegenerative-disease-database-1.0.0\\\\als\\\\als8.ts', 'c:\\\\Users\\\\natal\\\\OneDrive\\\\Escritorio\\\\LaboratorioBiosenales\\\\Proyecto_1\\\\gait-in-neurodegenerative-disease-database-1.0.0\\\\als\\\\als9.ts']\n",
      "Archivos Hunt: ['c:\\\\Users\\\\natal\\\\OneDrive\\\\Escritorio\\\\LaboratorioBiosenales\\\\Proyecto_1\\\\gait-in-neurodegenerative-disease-database-1.0.0\\\\hunt\\\\hunt1.ts', 'c:\\\\Users\\\\natal\\\\OneDrive\\\\Escritorio\\\\LaboratorioBiosenales\\\\Proyecto_1\\\\gait-in-neurodegenerative-disease-database-1.0.0\\\\hunt\\\\hunt10.ts', 'c:\\\\Users\\\\natal\\\\OneDrive\\\\Escritorio\\\\LaboratorioBiosenales\\\\Proyecto_1\\\\gait-in-neurodegenerative-disease-database-1.0.0\\\\hunt\\\\hunt11.ts', 'c:\\\\Users\\\\natal\\\\OneDrive\\\\Escritorio\\\\LaboratorioBiosenales\\\\Proyecto_1\\\\gait-in-neurodegenerative-disease-database-1.0.0\\\\hunt\\\\hunt12.ts', 'c:\\\\Users\\\\natal\\\\OneDrive\\\\Escritorio\\\\LaboratorioBiosenales\\\\Proyecto_1\\\\gait-in-neurodegenerative-disease-database-1.0.0\\\\hunt\\\\hunt13.ts', 'c:\\\\Users\\\\natal\\\\OneDrive\\\\Escritorio\\\\LaboratorioBiosenales\\\\Proyecto_1\\\\gait-in-neurodegenerative-disease-database-1.0.0\\\\hunt\\\\hunt14.ts', 'c:\\\\Users\\\\natal\\\\OneDrive\\\\Escritorio\\\\LaboratorioBiosenales\\\\Proyecto_1\\\\gait-in-neurodegenerative-disease-database-1.0.0\\\\hunt\\\\hunt15.ts', 'c:\\\\Users\\\\natal\\\\OneDrive\\\\Escritorio\\\\LaboratorioBiosenales\\\\Proyecto_1\\\\gait-in-neurodegenerative-disease-database-1.0.0\\\\hunt\\\\hunt16.ts', 'c:\\\\Users\\\\natal\\\\OneDrive\\\\Escritorio\\\\LaboratorioBiosenales\\\\Proyecto_1\\\\gait-in-neurodegenerative-disease-database-1.0.0\\\\hunt\\\\hunt17.ts', 'c:\\\\Users\\\\natal\\\\OneDrive\\\\Escritorio\\\\LaboratorioBiosenales\\\\Proyecto_1\\\\gait-in-neurodegenerative-disease-database-1.0.0\\\\hunt\\\\hunt18.ts', 'c:\\\\Users\\\\natal\\\\OneDrive\\\\Escritorio\\\\LaboratorioBiosenales\\\\Proyecto_1\\\\gait-in-neurodegenerative-disease-database-1.0.0\\\\hunt\\\\hunt19.ts', 'c:\\\\Users\\\\natal\\\\OneDrive\\\\Escritorio\\\\LaboratorioBiosenales\\\\Proyecto_1\\\\gait-in-neurodegenerative-disease-database-1.0.0\\\\hunt\\\\hunt2.ts', 'c:\\\\Users\\\\natal\\\\OneDrive\\\\Escritorio\\\\LaboratorioBiosenales\\\\Proyecto_1\\\\gait-in-neurodegenerative-disease-database-1.0.0\\\\hunt\\\\hunt20.ts', 'c:\\\\Users\\\\natal\\\\OneDrive\\\\Escritorio\\\\LaboratorioBiosenales\\\\Proyecto_1\\\\gait-in-neurodegenerative-disease-database-1.0.0\\\\hunt\\\\hunt3.ts', 'c:\\\\Users\\\\natal\\\\OneDrive\\\\Escritorio\\\\LaboratorioBiosenales\\\\Proyecto_1\\\\gait-in-neurodegenerative-disease-database-1.0.0\\\\hunt\\\\hunt4.ts', 'c:\\\\Users\\\\natal\\\\OneDrive\\\\Escritorio\\\\LaboratorioBiosenales\\\\Proyecto_1\\\\gait-in-neurodegenerative-disease-database-1.0.0\\\\hunt\\\\hunt5.ts', 'c:\\\\Users\\\\natal\\\\OneDrive\\\\Escritorio\\\\LaboratorioBiosenales\\\\Proyecto_1\\\\gait-in-neurodegenerative-disease-database-1.0.0\\\\hunt\\\\hunt6.ts', 'c:\\\\Users\\\\natal\\\\OneDrive\\\\Escritorio\\\\LaboratorioBiosenales\\\\Proyecto_1\\\\gait-in-neurodegenerative-disease-database-1.0.0\\\\hunt\\\\hunt7.ts', 'c:\\\\Users\\\\natal\\\\OneDrive\\\\Escritorio\\\\LaboratorioBiosenales\\\\Proyecto_1\\\\gait-in-neurodegenerative-disease-database-1.0.0\\\\hunt\\\\hunt8.ts', 'c:\\\\Users\\\\natal\\\\OneDrive\\\\Escritorio\\\\LaboratorioBiosenales\\\\Proyecto_1\\\\gait-in-neurodegenerative-disease-database-1.0.0\\\\hunt\\\\hunt9.ts']\n",
      "Archivos Park: ['c:\\\\Users\\\\natal\\\\OneDrive\\\\Escritorio\\\\LaboratorioBiosenales\\\\Proyecto_1\\\\gait-in-neurodegenerative-disease-database-1.0.0\\\\park\\\\park1.ts', 'c:\\\\Users\\\\natal\\\\OneDrive\\\\Escritorio\\\\LaboratorioBiosenales\\\\Proyecto_1\\\\gait-in-neurodegenerative-disease-database-1.0.0\\\\park\\\\park10.ts', 'c:\\\\Users\\\\natal\\\\OneDrive\\\\Escritorio\\\\LaboratorioBiosenales\\\\Proyecto_1\\\\gait-in-neurodegenerative-disease-database-1.0.0\\\\park\\\\park11.ts', 'c:\\\\Users\\\\natal\\\\OneDrive\\\\Escritorio\\\\LaboratorioBiosenales\\\\Proyecto_1\\\\gait-in-neurodegenerative-disease-database-1.0.0\\\\park\\\\park12.ts', 'c:\\\\Users\\\\natal\\\\OneDrive\\\\Escritorio\\\\LaboratorioBiosenales\\\\Proyecto_1\\\\gait-in-neurodegenerative-disease-database-1.0.0\\\\park\\\\park13.ts', 'c:\\\\Users\\\\natal\\\\OneDrive\\\\Escritorio\\\\LaboratorioBiosenales\\\\Proyecto_1\\\\gait-in-neurodegenerative-disease-database-1.0.0\\\\park\\\\park14.ts', 'c:\\\\Users\\\\natal\\\\OneDrive\\\\Escritorio\\\\LaboratorioBiosenales\\\\Proyecto_1\\\\gait-in-neurodegenerative-disease-database-1.0.0\\\\park\\\\park15.ts', 'c:\\\\Users\\\\natal\\\\OneDrive\\\\Escritorio\\\\LaboratorioBiosenales\\\\Proyecto_1\\\\gait-in-neurodegenerative-disease-database-1.0.0\\\\park\\\\park2.ts', 'c:\\\\Users\\\\natal\\\\OneDrive\\\\Escritorio\\\\LaboratorioBiosenales\\\\Proyecto_1\\\\gait-in-neurodegenerative-disease-database-1.0.0\\\\park\\\\park3.ts', 'c:\\\\Users\\\\natal\\\\OneDrive\\\\Escritorio\\\\LaboratorioBiosenales\\\\Proyecto_1\\\\gait-in-neurodegenerative-disease-database-1.0.0\\\\park\\\\park4.ts', 'c:\\\\Users\\\\natal\\\\OneDrive\\\\Escritorio\\\\LaboratorioBiosenales\\\\Proyecto_1\\\\gait-in-neurodegenerative-disease-database-1.0.0\\\\park\\\\park5.ts', 'c:\\\\Users\\\\natal\\\\OneDrive\\\\Escritorio\\\\LaboratorioBiosenales\\\\Proyecto_1\\\\gait-in-neurodegenerative-disease-database-1.0.0\\\\park\\\\park6.ts', 'c:\\\\Users\\\\natal\\\\OneDrive\\\\Escritorio\\\\LaboratorioBiosenales\\\\Proyecto_1\\\\gait-in-neurodegenerative-disease-database-1.0.0\\\\park\\\\park7.ts', 'c:\\\\Users\\\\natal\\\\OneDrive\\\\Escritorio\\\\LaboratorioBiosenales\\\\Proyecto_1\\\\gait-in-neurodegenerative-disease-database-1.0.0\\\\park\\\\park8.ts', 'c:\\\\Users\\\\natal\\\\OneDrive\\\\Escritorio\\\\LaboratorioBiosenales\\\\Proyecto_1\\\\gait-in-neurodegenerative-disease-database-1.0.0\\\\park\\\\park9.ts']\n",
      "Archivos Control: ['c:\\\\Users\\\\natal\\\\OneDrive\\\\Escritorio\\\\LaboratorioBiosenales\\\\Proyecto_1\\\\gait-in-neurodegenerative-disease-database-1.0.0\\\\control\\\\control1.ts', 'c:\\\\Users\\\\natal\\\\OneDrive\\\\Escritorio\\\\LaboratorioBiosenales\\\\Proyecto_1\\\\gait-in-neurodegenerative-disease-database-1.0.0\\\\control\\\\control10.ts', 'c:\\\\Users\\\\natal\\\\OneDrive\\\\Escritorio\\\\LaboratorioBiosenales\\\\Proyecto_1\\\\gait-in-neurodegenerative-disease-database-1.0.0\\\\control\\\\control11.ts', 'c:\\\\Users\\\\natal\\\\OneDrive\\\\Escritorio\\\\LaboratorioBiosenales\\\\Proyecto_1\\\\gait-in-neurodegenerative-disease-database-1.0.0\\\\control\\\\control12.ts', 'c:\\\\Users\\\\natal\\\\OneDrive\\\\Escritorio\\\\LaboratorioBiosenales\\\\Proyecto_1\\\\gait-in-neurodegenerative-disease-database-1.0.0\\\\control\\\\control13.ts', 'c:\\\\Users\\\\natal\\\\OneDrive\\\\Escritorio\\\\LaboratorioBiosenales\\\\Proyecto_1\\\\gait-in-neurodegenerative-disease-database-1.0.0\\\\control\\\\control14.ts', 'c:\\\\Users\\\\natal\\\\OneDrive\\\\Escritorio\\\\LaboratorioBiosenales\\\\Proyecto_1\\\\gait-in-neurodegenerative-disease-database-1.0.0\\\\control\\\\control15.ts', 'c:\\\\Users\\\\natal\\\\OneDrive\\\\Escritorio\\\\LaboratorioBiosenales\\\\Proyecto_1\\\\gait-in-neurodegenerative-disease-database-1.0.0\\\\control\\\\control16.ts', 'c:\\\\Users\\\\natal\\\\OneDrive\\\\Escritorio\\\\LaboratorioBiosenales\\\\Proyecto_1\\\\gait-in-neurodegenerative-disease-database-1.0.0\\\\control\\\\control2.ts', 'c:\\\\Users\\\\natal\\\\OneDrive\\\\Escritorio\\\\LaboratorioBiosenales\\\\Proyecto_1\\\\gait-in-neurodegenerative-disease-database-1.0.0\\\\control\\\\control3.ts', 'c:\\\\Users\\\\natal\\\\OneDrive\\\\Escritorio\\\\LaboratorioBiosenales\\\\Proyecto_1\\\\gait-in-neurodegenerative-disease-database-1.0.0\\\\control\\\\control4.ts', 'c:\\\\Users\\\\natal\\\\OneDrive\\\\Escritorio\\\\LaboratorioBiosenales\\\\Proyecto_1\\\\gait-in-neurodegenerative-disease-database-1.0.0\\\\control\\\\control5.ts', 'c:\\\\Users\\\\natal\\\\OneDrive\\\\Escritorio\\\\LaboratorioBiosenales\\\\Proyecto_1\\\\gait-in-neurodegenerative-disease-database-1.0.0\\\\control\\\\control6.ts', 'c:\\\\Users\\\\natal\\\\OneDrive\\\\Escritorio\\\\LaboratorioBiosenales\\\\Proyecto_1\\\\gait-in-neurodegenerative-disease-database-1.0.0\\\\control\\\\control7.ts', 'c:\\\\Users\\\\natal\\\\OneDrive\\\\Escritorio\\\\LaboratorioBiosenales\\\\Proyecto_1\\\\gait-in-neurodegenerative-disease-database-1.0.0\\\\control\\\\control8.ts', 'c:\\\\Users\\\\natal\\\\OneDrive\\\\Escritorio\\\\LaboratorioBiosenales\\\\Proyecto_1\\\\gait-in-neurodegenerative-disease-database-1.0.0\\\\control\\\\control9.ts']\n",
      "Total de archivos .ts: 64\n"
     ]
    }
   ],
   "source": [
    "#AQUI SE EXTRAEN SOLO LOS ARCHIVOS .TS DE LA CARPETA\n",
    "\n",
    "#archivos\n",
    "#als#.ts son 13 en total\n",
    "#control#.ts son 16 en total\n",
    "#hunt#.ts son 20 en total\n",
    "#park#.ts son 15 en total\n",
    "#64 en total check\n",
    "\n",
    "# Define el directorio base\n",
    "directorio_actual = os.getcwd()  # o la ruta deseada\n",
    "\n",
    "# Archivos ALS\n",
    "archivo_als = os.path.join(directorio_actual, \"gait-in-neurodegenerative-disease-database-1.0.0\", \"als\", \"*.ts\")\n",
    "lista_als = glob.glob(archivo_als)\n",
    "print(\"Archivos ALS:\", lista_als)\n",
    "\n",
    "# Archivos Hunt\n",
    "archivo_hunt = os.path.join(directorio_actual, \"gait-in-neurodegenerative-disease-database-1.0.0\", \"hunt\", \"*.ts\")\n",
    "lista_hunt = glob.glob(archivo_hunt)\n",
    "print(\"Archivos Hunt:\", lista_hunt)\n",
    "\n",
    "# Archivos Park\n",
    "archivo_park = os.path.join(directorio_actual, \"gait-in-neurodegenerative-disease-database-1.0.0\", \"park\", \"*.ts\")\n",
    "lista_park = glob.glob(archivo_park)\n",
    "print(\"Archivos Park:\", lista_park)\n",
    "\n",
    "# Archivos Control\n",
    "archivo_control = os.path.join(directorio_actual, \"gait-in-neurodegenerative-disease-database-1.0.0\", \"control\", \"*.ts\")\n",
    "lista_control = glob.glob(archivo_control)\n",
    "print(\"Archivos Control:\", lista_control)\n",
    "\n",
    "# Para verificar cuántos archivos has cargado en total:\n",
    "total_archivos = len(lista_als) + len(lista_hunt) + len(lista_park) + len(lista_control)\n",
    "print(\"Total de archivos .ts:\", total_archivos)\n"
   ]
  },
  {
   "cell_type": "code",
   "execution_count": 85,
   "metadata": {},
   "outputs": [],
   "source": [
    "#AQUÍ FUNCION QUE CARGA DATOS\n",
    "def cargar(file):\n",
    "    \n",
    "    names = ['Tiempo transcurrido (sec)', 'Intervalos entre pasos pie izquierdo (sec)', \n",
    "         'Intervalos entre pasos pie derecho (sec)' , 'Intervalos de balanceo pie izquierdo (sec)', 'Intervalos de balanceo pie derecho (sec)']  \n",
    "    \n",
    "    # Leer el archivo con pandas\n",
    "    data = pd.read_csv(file, delimiter='\\t', names=names)\n",
    "    \n",
    "    # Aplicar detrend a cada señal (excepto la columna de tiempo)\n",
    "    tiempo = data['Tiempo transcurrido (sec)'].values  # Sin detrend\n",
    "    int_pasosi = (data['Intervalos entre pasos pie izquierdo (sec)'].values)\n",
    "    int_pasosd = (data['Intervalos entre pasos pie derecho (sec)'].values)\n",
    "    int_balani = (data['Intervalos de balanceo pie izquierdo (sec)'].values)\n",
    "    int_baland = (data['Intervalos de balanceo pie derecho (sec)'].values)\n",
    "    \n",
    "    # Crear DataFrame con las señales corregidas\n",
    "    df = pd.DataFrame({\n",
    "        'Tiempo transcurrido (sec)': tiempo,\n",
    "        'Intervalos entre pasos pie izquierdo (sec)': int_pasosi,\n",
    "        'Intervalos entre pasos pie derecho (sec)': int_pasosd,\n",
    "        'Intervalos de balanceo pie izquierdo (sec)': int_balani,\n",
    "        'Intervalos de balanceo pie derecho (sec)': int_baland\n",
    "    })\n",
    "    \n",
    "    return df"
   ]
  },
  {
   "cell_type": "code",
   "execution_count": 86,
   "metadata": {},
   "outputs": [
    {
     "name": "stdout",
     "output_type": "stream",
     "text": [
      "Se procesaron 13 archivos del grupo Parkinson\n",
      "Se procesaron 20 archivos del grupo Huntington\n",
      "Se procesaron 15 archivos del grupo Huntington\n",
      "Se procesaron 16 archivos del grupo Huntington\n"
     ]
    }
   ],
   "source": [
    "# Cargar cada archivo de lista_\n",
    "def load(lista_archivos):\n",
    "    senales_grupo = []\n",
    "    for archivo in lista_archivos:\n",
    "        senales = cargar(archivo)\n",
    "        senales_grupo.append(senales)\n",
    "\n",
    "    return senales_grupo\n",
    "\n",
    "# Llamar la función para cargar todos los archivos de lista_als\n",
    "senales_als = load(lista_als)\n",
    "senales_hunt = load(lista_hunt)\n",
    "senales_park = load(lista_park)\n",
    "senales_control = load(lista_control)\n",
    "\n",
    "# Para contar cuantos archivos hay de cada grupo\n",
    "print(f'Se procesaron {len(senales_als)} archivos del grupo Parkinson')\n",
    "print(f'Se procesaron {len(senales_hunt)} archivos del grupo Huntington')\n",
    "print(f'Se procesaron {len(senales_park)} archivos del grupo Huntington')\n",
    "print(f'Se procesaron {len(senales_control)} archivos del grupo Huntington')\n"
   ]
  },
  {
   "cell_type": "markdown",
   "metadata": {},
   "source": [
    "<h5><font color='0B5345'> \n",
    "Ya a los datos se le eliminaron los primeros 20 seg (NO SE HACE)"
   ]
  },
  {
   "cell_type": "markdown",
   "metadata": {},
   "source": [
    "<hr>\n",
    "<h8><strong>2.</strong></h8> <h8>Para cada señal eliminar los errores en tendencia usando la rutina detrend.</h8>\n"
   ]
  },
  {
   "cell_type": "code",
   "execution_count": 98,
   "metadata": {},
   "outputs": [
    {
     "data": {
      "image/png": "[encoded data removed]",
      "text/plain": [
       "<Figure size 640x480 with 1 Axes>"
      ]
     },
     "metadata": {},
     "output_type": "display_data"
    }
   ],
   "source": [
    "senales_control = load(lista_als)\n",
    "control_1 = senales_control[0]\n",
    "\n",
    "tiempo_control = control_1['Tiempo transcurrido (sec)']\n",
    "int_pasosicontrol = (control_1['Intervalos entre pasos pie izquierdo (sec)'])\n",
    "# int_pasosdcontrol = control_1['Intervalos entre pasos pie derecho (sec)']\n",
    "# int_balanicontrol = control_1['Intervalos de balanceo pie izquierdo (sec)']\n",
    "# int_balandcontrol = control_1['Intervalos de balanceo pie derecho (sec)']\n",
    "\n",
    "#Grafico los datos de control\n",
    "# Graficar la señal filtrada\n",
    "plt.plot(tiempo_control,signal.detrend(int_pasosicontrol),label='Int entre pasos pie izquierdo', color='orange')\n",
    "# plt.plot(tiempo_control,int_pasosdcontrol,label='Int entre pasos pie derecho', color='yellow')\n",
    "# plt.plot(tiempo_control,int_balanicontrol,label='Int balanceo pie izquierdo', color='blue')\n",
    "# plt.plot(tiempo_control,int_balandcontrol,label='Int balanceo pie derecho', color='red')\n",
    "\n",
    "plt.title('Gráfico de los datos de control')\n",
    "plt.xlabel('Tiempo transcurrido(sec)')\n",
    "plt.ylabel('Datos (sec)')\n",
    "plt.legend()\n",
    "plt.grid()\n",
    "plt.show()\n"
   ]
  },
  {
   "cell_type": "code",
   "execution_count": 88,
   "metadata": {},
   "outputs": [],
   "source": [
    "# #Grafico los datos de als\n",
    "# plt.plot(tiempo_als,signal.detrend(lsi_als))\n",
    "# plt.title('Gráfico de los datos de als')\n",
    "# plt.xlabel('Elapsed Time (sec)')\n",
    "# plt.ylabel('Left Stride Interval (sec)')\n",
    "# plt.grid()\n",
    "# plt.show()"
   ]
  },
  {
   "cell_type": "code",
   "execution_count": 89,
   "metadata": {},
   "outputs": [],
   "source": [
    "# #Grafico los datos de hunt\n",
    "# plt.plot(tiempo_hunt,signal.detrend(lsi_hunt))\n",
    "# plt.title('Gráfico de los datos de hunt')\n",
    "# plt.xlabel('Elapsed Time (sec)')\n",
    "# plt.ylabel('Left Stride Interval (sec)')\n",
    "# plt.grid()\n",
    "# plt.show()"
   ]
  },
  {
   "cell_type": "code",
   "execution_count": 90,
   "metadata": {},
   "outputs": [],
   "source": [
    "# #Grafico los datos de park\n",
    "# plt.plot(tiempo_park,signal.detrend(lsi_park))\n",
    "# plt.title('Gráfico de los datos de park')\n",
    "# plt.xlabel('Elapsed Time (sec)')\n",
    "# plt.ylabel('Left Stride Interval (sec)')\n",
    "# plt.grid()\n",
    "# plt.show()"
   ]
  },
  {
   "cell_type": "markdown",
   "metadata": {},
   "source": [
    "<hr>\n",
    "<h8><strong>3.</strong></h8> <h8>Para cada señal resultante del paso 2 eliminar los datos atípicos usando filtro hampel.</h8>"
   ]
  },
  {
   "cell_type": "code",
   "execution_count": 91,
   "metadata": {},
   "outputs": [],
   "source": [
    "def hampelfilter(wk, K, FilterParms):\n",
    "    \"\"\"\n",
    "    Procedure to implement the Hampel filter\n",
    "    \"\"\"\n",
    "    #\n",
    "    Thresh = FilterParms[0]\n",
    "    ctr = wk#[K]\n",
    "    ref = np.median(wk)\n",
    "\n",
    "    AbsDev = abs(wk - ref)\n",
    "    MAD = 1.4826 * np.median(AbsDev)\n",
    "    TestVal = abs(ctr - ref)\n",
    "    #if TestVal > Thresh * MAD:\n",
    "    yk = ctr\n",
    "\n",
    "    print(\"changing\");\n",
    "    numero = np.sum((TestVal > Thresh * MAD)==True)\n",
    "    print(numero)\n",
    "\n",
    "    yk[TestVal > Thresh * MAD] = ref\n",
    "\n",
    "\n",
    "    return yk"
   ]
  },
  {
   "cell_type": "code",
   "execution_count": 92,
   "metadata": {},
   "outputs": [],
   "source": [
    "# #Filtro para datos als\n",
    "# tiempoals = datos_als['Elapsed Time (sec)'].values\n",
    "# lsials = signal.detrend(datos_als['Left Swing Interval (sec)'].values)\n",
    "# lsi_filtrada = hampelfilter(lsials, 3, [6])\n",
    "\n",
    "# plt.figure(figsize=(8,6))\n",
    "\n",
    "# # Graficar la señal original\n",
    "# plt.plot(tiempoals, lsials, label='Señal original', color='blue')\n",
    "\n",
    "# # Graficar la señal filtrada\n",
    "# plt.plot(tiempoals, lsi_filtrada, label='Señal filtrada', color='orange')\n",
    "\n",
    "# plt.title('Comparación de la señal als original y filtrada')\n",
    "# plt.xlabel('Elapsed Time (sec)')\n",
    "# plt.ylabel('Left Swing Interval (sec)')\n",
    "# plt.grid()\n",
    "# plt.legend()\n",
    "# plt.show()\n"
   ]
  },
  {
   "cell_type": "code",
   "execution_count": 93,
   "metadata": {},
   "outputs": [],
   "source": [
    "# #Filtro para datos hunt\n",
    "# tiempohunt = datos_hunt['Elapsed Time (sec)'].values\n",
    "# lsihunt = signal.detrend(datos_hunt['Left Swing Interval (sec)'].values)\n",
    "# lsi_filtrada = hampelfilter(lsihunt, 3, [6])\n",
    "\n",
    "# plt.figure(figsize=(8,6))\n",
    "\n",
    "# # Graficar la señal original\n",
    "# plt.plot(tiempohunt, lsihunt, label='Señal original', color='blue')\n",
    "\n",
    "# # Graficar la señal filtrada\n",
    "# plt.plot(tiempohunt, lsi_filtrada, label='Señal filtrada', color='orange')\n",
    "\n",
    "# plt.title('Comparación de la señal hunt original y filtrada')\n",
    "# plt.xlabel('Elapsed Time (sec)')\n",
    "# plt.ylabel('Left Swing Interval (sec)')\n",
    "# plt.grid()\n",
    "# plt.legend()\n",
    "# plt.show()"
   ]
  },
  {
   "cell_type": "code",
   "execution_count": 94,
   "metadata": {},
   "outputs": [],
   "source": [
    "# #Filtro para datos park\n",
    "# tiempopark = datos_park['Elapsed Time (sec)'].values\n",
    "# lsipark = signal.detrend(datos_park['Left Swing Interval (sec)'].values)\n",
    "# lsi_filtrada = hampelfilter(lsipark, 3, [6])\n",
    "\n",
    "# plt.figure(figsize=(8,6))\n",
    "\n",
    "# # Graficar la señal original\n",
    "# plt.plot(tiempopark, lsipark, label='Señal original', color='blue')\n",
    "\n",
    "# # Graficar la señal filtrada\n",
    "# plt.plot(tiempopark, lsi_filtrada, label='Señal filtrada', color='orange')\n",
    "\n",
    "# plt.title('Comparación de la señal park original y filtrada')\n",
    "# plt.xlabel('Elapsed Time (sec)')\n",
    "# plt.ylabel('Left Swing Interval (sec)')\n",
    "# plt.grid()\n",
    "# plt.legend()\n",
    "# plt.show()"
   ]
  },
  {
   "cell_type": "markdown",
   "metadata": {},
   "source": [
    "<hr>\n",
    "<h8><strong>4.</strong></h8> <h8>Crear una función que reciba una señal de marcha y calcule el coeficiente de variación (CV) y la SD tal como se define en el artículo de referencia.</h8>"
   ]
  },
  {
   "cell_type": "code",
   "execution_count": 95,
   "metadata": {},
   "outputs": [],
   "source": [
    "# def calcular_cv_sd(signal):\n",
    "    \n",
    "#     # Calcular la media\n",
    "#     media = np.mean(signal)\n",
    "    \n",
    "#     # Calcular la desviación estándar\n",
    "#     sd = np.std(signal)\n",
    "    \n",
    "#     # Calcular el coeficiente de variación\n",
    "#     if media != 0:  # Para evitar división por cero\n",
    "#         cv = (sd / media) * 100\n",
    "#     else:\n",
    "#         cv = np.nan  # O manejarlo de otra forma si la media es cero\n",
    "\n",
    "#     return cv, sd\n",
    "\n",
    "# cv, sd = calcular_cv_sd(signal)\n",
    "# print(f\"Coeficiente de variación (CV): {cv:.2f}%\")\n",
    "# print(f\"Desviación estándar (SD): {sd:.2f}\")\n"
   ]
  },
  {
   "cell_type": "markdown",
   "metadata": {},
   "source": [
    "<hr>\n",
    "<h8><strong>5.</strong></h8> <h8>Crear una función que reciba una señal de marcha y permita calcular la entropía de permutación.</h8>"
   ]
  },
  {
   "cell_type": "code",
   "execution_count": 96,
   "metadata": {},
   "outputs": [],
   "source": [
    "#"
   ]
  },
  {
   "cell_type": "markdown",
   "metadata": {},
   "source": [
    "<hr>\n",
    "<h8><strong>6.</strong></h8> <h8>Crear una rutina que aplique sobre todos los archivos de la base de datos las rutina 1 y almacene los resultados en un dataframe donde se pueda discriminar nombre participante, condición (Parkinson, Huntington, ELA, Control) y los tres índices/características calculados por cada señal.</h8>"
   ]
  },
  {
   "cell_type": "code",
   "execution_count": 97,
   "metadata": {},
   "outputs": [],
   "source": [
    "#"
   ]
  },
  {
   "cell_type": "markdown",
   "metadata": {},
   "source": [
    "<hr>\n",
    "<h3><strong>Discusión</strong></h3>\n",
    "<h8><strong>a.</strong></h8> <h8>Discusión de las diferencias en los grupos usando las gráficas obtenidas usando estadística descriptiva.</h8>"
   ]
  },
  {
   "cell_type": "markdown",
   "metadata": {},
   "source": [
    "<hr>\n",
    "<h8><strong>b.</strong></h8> <h8>Planteamiento de las hipótesis nulas y alternativas, selección del tipo de prueba (paramétrica o no paramétrica) y discusión de los resultados.</h8>"
   ]
  },
  {
   "cell_type": "markdown",
   "metadata": {},
   "source": [
    "<hr>\n",
    "<h8><strong>c.</strong></h8> <h8>Discutir los resultados obtenidos con los presentado en el artículo base.</h8>\n"
   ]
  },
  {
   "cell_type": "markdown",
   "metadata": {},
   "source": [
    "<hr>\n",
    "<h8><strong>d.</strong></h8> <h8>Proponer cuales de las medidas usadas podrían servir para discriminar que poblaciones clínicas de los controles.</h8>"
   ]
  }
 ],
 "metadata": {
  "kernelspec": {
   "display_name": "Python 3",
   "language": "python",
   "name": "python3"
  },
  "language_info": {
   "codemirror_mode": {
    "name": "ipython",
    "version": 3
   },
   "file_extension": ".py",
   "mimetype": "text/x-python",
   "name": "python",
   "nbconvert_exporter": "python",
   "pygments_lexer": "ipython3",
   "version": "3.12.2"
  }
 },
 "nbformat": 4,
 "nbformat_minor": 2
}
